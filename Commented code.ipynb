{
  "nbformat": 4,
  "nbformat_minor": 0,
  "metadata": {
    "colab": {
      "name": "Boltzmann Machine.ipynb",
      "provenance": [],
      "collapsed_sections": []
    },
    "kernelspec": {
      "name": "python3",
      "display_name": "Python 3"
    }
  },
  "cells": [
    {
      "cell_type": "markdown",
      "metadata": {
        "id": "K4f4JG1gdKqj"
      },
      "source": [
        "#Boltzmann Machine"
      ]
    },
    {
      "cell_type": "markdown",
      "metadata": {
        "id": "1jbiqOK7dLGG"
      },
      "source": [
        "##Downloading the dataset"
      ]
    },
    {
      "cell_type": "markdown",
      "metadata": {
        "id": "XL5MEkLcfRD2"
      },
      "source": [
        "###ML-100K"
      ]
    },
    {
      "cell_type": "code",
      "metadata": {
        "id": "rjOPzue7FCXJ",
        "colab": {
          "base_uri": "https://localhost:8080/",
          "height": 646
        },
        "outputId": "44d3a628-f522-4d0d-efdf-009b7d3a28df"
      },
      "source": [
        "!wget \"http://files.grouplens.org/datasets/movielens/ml-100k.zip\"\n",
        "!unzip ml-100k.zip\n",
        "!ls"
      ],
      "execution_count": null,
      "outputs": [
        {
          "output_type": "stream",
          "text": [
            "--2020-06-08 15:18:04--  http://files.grouplens.org/datasets/movielens/ml-100k.zip\n",
            "Resolving files.grouplens.org (files.grouplens.org)... 128.101.65.152\n",
            "Connecting to files.grouplens.org (files.grouplens.org)|128.101.65.152|:80... connected.\n",
            "HTTP request sent, awaiting response... 200 OK\n",
            "Length: 4924029 (4.7M) [application/zip]\n",
            "Saving to: ‘ml-100k.zip’\n",
            "\n",
            "\rml-100k.zip           0%[                    ]       0  --.-KB/s               \rml-100k.zip          18%[==>                 ] 884.39K  3.96MB/s               \rml-100k.zip         100%[===================>]   4.70M  15.6MB/s    in 0.3s    \n",
            "\n",
            "2020-06-08 15:18:04 (15.6 MB/s) - ‘ml-100k.zip’ saved [4924029/4924029]\n",
            "\n",
            "Archive:  ml-100k.zip\n",
            "   creating: ml-100k/\n",
            "  inflating: ml-100k/allbut.pl       \n",
            "  inflating: ml-100k/mku.sh          \n",
            "  inflating: ml-100k/README          \n",
            "  inflating: ml-100k/u.data          \n",
            "  inflating: ml-100k/u.genre         \n",
            "  inflating: ml-100k/u.info          \n",
            "  inflating: ml-100k/u.item          \n",
            "  inflating: ml-100k/u.occupation    \n",
            "  inflating: ml-100k/u.user          \n",
            "  inflating: ml-100k/u1.base         \n",
            "  inflating: ml-100k/u1.test         \n",
            "  inflating: ml-100k/u2.base         \n",
            "  inflating: ml-100k/u2.test         \n",
            "  inflating: ml-100k/u3.base         \n",
            "  inflating: ml-100k/u3.test         \n",
            "  inflating: ml-100k/u4.base         \n",
            "  inflating: ml-100k/u4.test         \n",
            "  inflating: ml-100k/u5.base         \n",
            "  inflating: ml-100k/u5.test         \n",
            "  inflating: ml-100k/ua.base         \n",
            "  inflating: ml-100k/ua.test         \n",
            "  inflating: ml-100k/ub.base         \n",
            "  inflating: ml-100k/ub.test         \n",
            "ml-100k  ml-100k.zip  sample_data\n"
          ],
          "name": "stdout"
        }
      ]
    },
    {
      "cell_type": "markdown",
      "metadata": {
        "id": "9Xis6ldDfTs6"
      },
      "source": [
        "###ML-1M"
      ]
    },
    {
      "cell_type": "code",
      "metadata": {
        "id": "LOly1yfAfTjd",
        "colab": {
          "base_uri": "https://localhost:8080/",
          "height": 323
        },
        "outputId": "22029b8c-79f2-46a2-a745-cdce83582b40"
      },
      "source": [
        "!wget \"http://files.grouplens.org/datasets/movielens/ml-1m.zip\"\n",
        "!unzip ml-1m.zip\n",
        "!ls"
      ],
      "execution_count": null,
      "outputs": [
        {
          "output_type": "stream",
          "text": [
            "--2020-06-08 15:18:16--  http://files.grouplens.org/datasets/movielens/ml-1m.zip\n",
            "Resolving files.grouplens.org (files.grouplens.org)... 128.101.65.152\n",
            "Connecting to files.grouplens.org (files.grouplens.org)|128.101.65.152|:80... connected.\n",
            "HTTP request sent, awaiting response... 200 OK\n",
            "Length: 5917549 (5.6M) [application/zip]\n",
            "Saving to: ‘ml-1m.zip’\n",
            "\n",
            "ml-1m.zip           100%[===================>]   5.64M  2.44MB/s    in 2.3s    \n",
            "\n",
            "2020-06-08 15:18:19 (2.44 MB/s) - ‘ml-1m.zip’ saved [5917549/5917549]\n",
            "\n",
            "Archive:  ml-1m.zip\n",
            "   creating: ml-1m/\n",
            "  inflating: ml-1m/movies.dat        \n",
            "  inflating: ml-1m/ratings.dat       \n",
            "  inflating: ml-1m/README            \n",
            "  inflating: ml-1m/users.dat         \n",
            "ml-100k  ml-100k.zip  ml-1m  ml-1m.zip\tsample_data\n"
          ],
          "name": "stdout"
        }
      ]
    },
    {
      "cell_type": "markdown",
      "metadata": {
        "id": "EOBJ8UCXdY0g"
      },
      "source": [
        "##Importing the libraries"
      ]
    },
    {
      "cell_type": "code",
      "metadata": {
        "id": "_LvGeU1CeCtg"
      },
      "source": [
        "import numpy as np\n",
        "import pandas as pd\n",
        "import torch\n",
        "import torch.nn as nn\n",
        "import torch.nn.parallel\n",
        "import torch.optim as optim\n",
        "import torch.utils.data\n",
        "from torch.autograd import Variable"
      ],
      "execution_count": null,
      "outputs": []
    },
    {
      "cell_type": "markdown",
      "metadata": {
        "id": "pM04FyMudkoK"
      },
      "source": [
        "## Importing the dataset\n"
      ]
    },
    {
      "cell_type": "code",
      "metadata": {
        "id": "UJw2p3-Cewo4"
      },
      "source": [
        "# We won't be using this dataset.\n",
        "movies = pd.read_csv('ml-1m/movies.dat', sep = '::', header = None, engine = 'python', encoding = 'latin-1')\n",
        "users = pd.read_csv('ml-1m/users.dat', sep = '::', header = None, engine = 'python', encoding = 'latin-1')\n",
        "ratings = pd.read_csv('ml-1m/ratings.dat', sep = '::', header = None, engine = 'python', encoding = 'latin-1')"
      ],
      "execution_count": null,
      "outputs": []
    },
    {
      "cell_type": "markdown",
      "metadata": {
        "id": "yTIbE2tkdkwP"
      },
      "source": [
        "## Preparing the training set and the test set\n"
      ]
    },
    {
      "cell_type": "code",
      "metadata": {
        "id": "2usLKJBEgPE2"
      },
      "source": [
        "training_set = pd.read_csv('ml-100k/u1.base', delimiter = '\\t')\n",
        "training_set = np.array(training_set, dtype = 'int')\n",
        "test_set = pd.read_csv('ml-100k/u1.test', delimiter = '\\t')\n",
        "test_set = np.array(test_set, dtype = 'int')"
      ],
      "execution_count": null,
      "outputs": []
    },
    {
      "cell_type": "markdown",
      "metadata": {
        "id": "zCf8HjSydk4s"
      },
      "source": [
        "## Getting the number of users and movies\n"
      ]
    },
    {
      "cell_type": "code",
      "metadata": {
        "id": "gPaGZqdniC5m"
      },
      "source": [
        "nb_users = int(max(max(training_set[:, 0], ), max(test_set[:, 0])))\n",
        "nb_movies = int(max(max(training_set[:, 1], ), max(test_set[:, 1])))"
      ],
      "execution_count": null,
      "outputs": []
    },
    {
      "cell_type": "markdown",
      "metadata": {
        "id": "J-w4-hVidlAm"
      },
      "source": [
        "## Converting the data into an array with users in lines and movies in columns\n"
      ]
    },
    {
      "cell_type": "code",
      "metadata": {
        "id": "-wASs2YFiDaa"
      },
      "source": [
        "def convert(data):\n",
        "  new_data = []\n",
        "  for id_users in range(1, nb_users + 1):\n",
        "    id_movies = data[:, 1] [data[:, 0] == id_users]\n",
        "    id_ratings = data[:, 2] [data[:, 0] == id_users]\n",
        "    ratings = np.zeros(nb_movies)\n",
        "    ratings[id_movies - 1] = id_ratings\n",
        "    new_data.append(list(ratings))\n",
        "  return new_data\n",
        "training_set = convert(training_set)\n",
        "test_set = convert(test_set)"
      ],
      "execution_count": null,
      "outputs": []
    },
    {
      "cell_type": "markdown",
      "metadata": {
        "id": "AMmhuUpldlHo"
      },
      "source": [
        "## Converting the data into Torch tensors\n"
      ]
    },
    {
      "cell_type": "code",
      "metadata": {
        "id": "TwD-KD8yiEEw"
      },
      "source": [
        "training_set = torch.FloatTensor(training_set)\n",
        "test_set = torch.FloatTensor(test_set)"
      ],
      "execution_count": null,
      "outputs": []
    },
    {
      "cell_type": "markdown",
      "metadata": {
        "id": "HIPruubGdlPW"
      },
      "source": [
        "## Converting the ratings into binary ratings 1 (Liked) or 0 (Not Liked)\n"
      ]
    },
    {
      "cell_type": "code",
      "metadata": {
        "id": "cslbPSh6iEka"
      },
      "source": [
        "training_set[training_set == 0] = -1\n",
        "training_set[training_set == 1] = 0\n",
        "training_set[training_set == 2] = 0\n",
        "training_set[training_set >= 3] = 1\n",
        "test_set[test_set == 0] = -1\n",
        "test_set[test_set == 1] = 0\n",
        "test_set[test_set == 2] = 0\n",
        "test_set[test_set >= 3] = 1"
      ],
      "execution_count": null,
      "outputs": []
    },
    {
      "cell_type": "markdown",
      "metadata": {
        "id": "6kkL8NkkdlZj"
      },
      "source": [
        "## Creating the architecture of the Neural Network\n"
      ]
    },
    {
      "cell_type": "code",
      "metadata": {
        "id": "oU2nyh76iE6M"
      },
      "source": [
        "class RBM(): #Restricted Boltzmann machines\n",
        "  def __init__(self, nv, nh): # nh-number of hidden nodes, nv-number of visible nodes\n",
        "    self.W = torch.randn(nh, nv) #Initialize weights for probabilities of size nh,nv according to normal distribution.(weight attribute)\n",
        "    self.a = torch.randn(1, nh)#Probability for bias For the probability of the hidden nodes when visible nodes are given (p_h_given_v)\n",
        "    self.b = torch.randn(1, nv)#Probability for bias For the probability of the visible nodes when hidden nodes are given (p_v_given_h)\n",
        "  def sample_h(self, x): # x-visible nodes\n",
        "    wx = torch.mm(x, self.W.t()) # product of 2 tensors W(weights) and X(visble nodes)\n",
        "    activation = wx + self.a.expand_as(wx) # to make sure that the bias is added to every moni batch we add a dimension to exxpand it as wx\n",
        "    p_h_given_v = torch.sigmoid(activation) #The p (probability) of the given h (hidden) node is 1 given value of v (visible node)\n",
        "\n",
        "#Sigmoid activation fn is applied to w(weight vector)\n",
        "# product x(vsivble neurons vector) +bias\n",
        "    return p_h_given_v, torch.bernoulli(p_h_given_v)\n",
        "\n",
        "  def sample_v(self, y):#method\n",
        "    wy = torch.mm(y, self.W)\n",
        "    activation = wy + self.b.expand_as(wy)\n",
        "    p_v_given_h = torch.sigmoid(activation)\n",
        "    return p_v_given_h, torch.bernoulli(p_v_given_h)\n",
        "\n",
        "  def train(self, v0, vk, ph0, phk):\n",
        "    #V0- input vector consists of the user’s ratings\n",
        "    #Vk- visible nodes after obtaining the rating of all movies of one user, later we will make a loop of all users obtained after k samplings.\n",
        "    # Ph0- vector of probabilities that at the 1st iteration the hidden nodes= 1 given the v0 (input vector of observations). \n",
        "    # Phk- probabilities of the hidden nodes equal to 1 after k sampling given the values of visible nodes vk\n",
        "    self.W += (torch.mm(v0.t(), ph0) - torch.mm(vk.t(), phk)).t()\n",
        "    self.b += torch.sum((v0 - vk), 0)\n",
        "    self.a += torch.sum((ph0 - phk), 0)\n",
        "    # weights(W), visible(a)/hidden(b) node biases are updated above.\n",
        "nv = len(training_set[0])\n",
        "nh = 100\n",
        "batch_size = 100\n",
        "rbm = RBM(nv, nh) # rbm object of RBM class is created."
      ],
      "execution_count": null,
      "outputs": []
    },
    {
      "cell_type": "markdown",
      "metadata": {
        "id": "7gy59alAdloL"
      },
      "source": [
        "## Training the RBM\n"
      ]
    },
    {
      "cell_type": "code",
      "metadata": {
        "id": "FEz9hRaciFTs",
        "colab": {
          "base_uri": "https://localhost:8080/",
          "height": 187
        },
        "outputId": "677ba886-38ee-43f2-9a2d-bed081429295"
      },
      "source": [
        "nb_epoch = 10 # number of epochs\n",
        "for epoch in range(1, nb_epoch + 1):\n",
        "  train_loss = 0 \n",
        "  s = 0. # to normalize the loss fn so we need to divide it by a counter, so initialize a counter i.e, s\n",
        "  for id_user in range(0, nb_users - batch_size, batch_size): #We have to loop over all the users in batches too as the functions in the RBM class are meant for a single user.\n",
        "    vk = training_set[id_user : id_user + batch_size] #Vk- input batch- output after Gibbs sampling, i.e, after k steps of random walk.\n",
        "    v0 = training_set[id_user : id_user + batch_size] # (target) batch of original ratings that’s not gonna change and be compared with predicted values at last. At the beginning the input is the same as the target.\n",
        "    ph0,_ = rbm.sample_h(v0)# use the sample_h method to get the prob. of hidden layers=1 given v0(input batch i.e, same as the target now)\n",
        "    for k in range(10): # these are the k steps that are used for constrative divergence\n",
        "      _,hk = rbm.sample_h(vk)#  sample_h method on the visible node(vk becoz v0 is our target we don’t want to change and vk will be updated later) to get the first sampled hidden nodes\n",
        "      _,vk = rbm.sample_v(hk)# Vk(samples of visibke nodes) is updated by sample_v  function which will give sampled visible nodes\n",
        "      #At the end of the loop, we will get the 10th sample of hidden and visible nodes \n",
        "      vk[v0<0] = v0[v0<0] # We don't wanna learn where the user haven’t rated movies i.e nodes as -1.So vk[v0<0]< ensures -1 in vk is kept same as in v0 i,.e -1\n",
        "\n",
        "    phk,_ = rbm.sample_h(vk) #We don’t have phk variable, so we will compute phk, phk,_ we use the sample_ h fn on the last sample of the visible nodes after the 10 steps i.e vk\n",
        "    rbm.train(v0, vk, ph0, phk) # update the weights, biases for a epoch using train methid of the RBM class.\n",
        "    train_loss += torch.mean(torch.abs(v0[v0 >= 0] - vk[v0 >= 0])) # updating the loss, we will use the simple distance between our target(v0) and our prediction(vk)\n",
        "    #[v0>=0] - to use only existing ratings in the training i.e exclude the movies which were not rated.4\n",
        "    s += 1. # increment the counter\n",
        "  print('epoch: '+str(epoch)+' loss: '+str(train_loss/s)) # loss is printed foe each 10 epochs\n"
      ],
      "execution_count": null,
      "outputs": [
        {
          "output_type": "stream",
          "text": [
            "epoch: 1 loss: tensor(0.3446)\n",
            "epoch: 2 loss: tensor(0.2168)\n",
            "epoch: 3 loss: tensor(0.2445)\n",
            "epoch: 4 loss: tensor(0.2458)\n",
            "epoch: 5 loss: tensor(0.2490)\n",
            "epoch: 6 loss: tensor(0.2498)\n",
            "epoch: 7 loss: tensor(0.2468)\n",
            "epoch: 8 loss: tensor(0.2488)\n",
            "epoch: 9 loss: tensor(0.2497)\n",
            "epoch: 10 loss: tensor(0.2462)\n"
          ],
          "name": "stdout"
        }
      ]
    },
    {
      "cell_type": "markdown",
      "metadata": {
        "id": "Bak5uc8gd-gX"
      },
      "source": [
        "## Testing the RBM\n"
      ]
    },
    {
      "cell_type": "code",
      "metadata": {
        "id": "5ztvzYRtiGCz",
        "colab": {
          "base_uri": "https://localhost:8080/",
          "height": 34
        },
        "outputId": "2b5ed305-7700-4e25-c59a-5adae77a603a"
      },
      "source": [
        "test_loss = 0\n",
        "s = 0.\n",
        "for id_user in range(nb_users): # each user is looped over\n",
        "    v = training_set[id_user:id_user+1] # input ratings\n",
        "    vt = test_set[id_user:id_user+1] #target, original ratings of the user in the test set\n",
        "    if len(vt[vt>=0]) > 0: # if the user have rated a single movie atleast\n",
        "        _,h = rbm.sample_h(v) #hidden nodes samples\n",
        "        _,v = rbm.sample_v(h) #visible nodes samples\n",
        "        test_loss += torch.mean(torch.abs(vt[vt>=0] - v[vt>=0]))\n",
        "        # test set contains the actual ratings for movies that havent been rated initialy in the training set.\n",
        "        s += 1.\n",
        "print('test loss: '+str(test_loss/s)) "
      ],
      "execution_count": null,
      "outputs": [
        {
          "output_type": "stream",
          "text": [
            "test loss: tensor(0.2359)\n"
          ],
          "name": "stdout"
        }
      ]
    }
  ]
}